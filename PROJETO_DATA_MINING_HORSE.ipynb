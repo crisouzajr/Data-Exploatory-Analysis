{
  "nbformat": 4,
  "nbformat_minor": 0,
  "metadata": {
    "kernelspec": {
      "display_name": "Python 3",
      "language": "python",
      "name": "python3"
    },
    "language_info": {
      "codemirror_mode": {
        "name": "ipython",
        "version": 3
      },
      "file_extension": ".py",
      "mimetype": "text/x-python",
      "name": "python",
      "nbconvert_exporter": "python",
      "pygments_lexer": "ipython3",
      "version": "3.8.5"
    },
    "colab": {
      "name": "PROJETO DATA MINING - HORSE.ipynb",
      "provenance": [],
      "toc_visible": true,
      "include_colab_link": true
    }
  },
  "cells": [
    {
      "cell_type": "markdown",
      "metadata": {
        "id": "view-in-github",
        "colab_type": "text"
      },
      "source": [
        "<a href=\"https://colab.research.google.com/github/crisouzajr/Data-Exploatory-Analysis-HEART-DISEASE/blob/main/PROJETO_DATA_MINING_HORSE.ipynb\" target=\"_parent\"><img src=\"https://colab.research.google.com/assets/colab-badge.svg\" alt=\"Open In Colab\"/></a>"
      ]
    },
    {
      "cell_type": "markdown",
      "metadata": {
        "id": "vekWk0EI6R0w"
      },
      "source": [
        "# Developing Machine Learning Models for DM Project.\n",
        "\n",
        "## A base de dados consiste na relação de algumas características fisiológicas apresentadas por cavalos, que irão indicar a propensão de que os animais venham a óbito ou não. \n",
        "\n",
        "### As imagens abaixo explicam as siglas de cada um dos atributos da base de dados para melhor compreenção do estudo como um todo."
      ]
    },
    {
      "cell_type": "markdown",
      "metadata": {
        "id": "CSOug5JC8XS2"
      },
      "source": [
        "# <font color = 'red'> PRE PROCESSAMENTO DA BASE DE DADOS"
      ]
    },
    {
      "cell_type": "markdown",
      "metadata": {
        "id": "URIJC33v6R02"
      },
      "source": [
        "### Carregando a base de dados para realizar as primeiras análises exploratória."
      ]
    },
    {
      "cell_type": "code",
      "metadata": {
        "id": "Tx5GKqgV6R03"
      },
      "source": [
        "\"\"\"Importando as bibliotecas iniciais para execução de uma análise exploratória dos dados\"\"\"\n",
        "\n",
        "import pandas as pd\n",
        "import numpy as np\n",
        "import matplotlib.pyplot as plt\n",
        "import seaborn as sns"
      ],
      "execution_count": 1,
      "outputs": []
    },
    {
      "cell_type": "code",
      "metadata": {
        "scrolled": true,
        "colab": {
          "base_uri": "https://localhost:8080/",
          "height": 0
        },
        "id": "DEfy1pTs6R03",
        "outputId": "70824794-8db5-4a31-ed33-6e43606173e3"
      },
      "source": [
        "\"\"\"Visualizando o dataset\"\"\"\n",
        "\n",
        "df = pd.read_csv('horse.csv')\n",
        "df.head()"
      ],
      "execution_count": 2,
      "outputs": [
        {
          "output_type": "execute_result",
          "data": {
            "text/html": [
              "<div>\n",
              "<style scoped>\n",
              "    .dataframe tbody tr th:only-of-type {\n",
              "        vertical-align: middle;\n",
              "    }\n",
              "\n",
              "    .dataframe tbody tr th {\n",
              "        vertical-align: top;\n",
              "    }\n",
              "\n",
              "    .dataframe thead th {\n",
              "        text-align: right;\n",
              "    }\n",
              "</style>\n",
              "<table border=\"1\" class=\"dataframe\">\n",
              "  <thead>\n",
              "    <tr style=\"text-align: right;\">\n",
              "      <th></th>\n",
              "      <th>surgery</th>\n",
              "      <th>age</th>\n",
              "      <th>hospital_number</th>\n",
              "      <th>rectal_temp</th>\n",
              "      <th>pulse</th>\n",
              "      <th>respiratory_rate</th>\n",
              "      <th>temp_of_extremities</th>\n",
              "      <th>peripheral_pulse</th>\n",
              "      <th>mucous_membrane</th>\n",
              "      <th>capillary_refill_time</th>\n",
              "      <th>pain</th>\n",
              "      <th>peristalsis</th>\n",
              "      <th>abdominal_distention</th>\n",
              "      <th>nasogastric_tube</th>\n",
              "      <th>nasogastric_reflux</th>\n",
              "      <th>nasogastric_reflux_ph</th>\n",
              "      <th>rectal_exam_feces</th>\n",
              "      <th>abdomen</th>\n",
              "      <th>packed_cell_volume</th>\n",
              "      <th>total_protein</th>\n",
              "      <th>abdomo_appearance</th>\n",
              "      <th>abdomo_protein</th>\n",
              "      <th>outcome</th>\n",
              "      <th>surgical_lesion</th>\n",
              "      <th>lesion_1</th>\n",
              "      <th>lesion_2</th>\n",
              "      <th>lesion_3</th>\n",
              "      <th>cp_data</th>\n",
              "    </tr>\n",
              "  </thead>\n",
              "  <tbody>\n",
              "    <tr>\n",
              "      <th>0</th>\n",
              "      <td>no</td>\n",
              "      <td>adult</td>\n",
              "      <td>530101</td>\n",
              "      <td>38.5</td>\n",
              "      <td>66.0</td>\n",
              "      <td>28.0</td>\n",
              "      <td>cool</td>\n",
              "      <td>reduced</td>\n",
              "      <td>NaN</td>\n",
              "      <td>more_3_sec</td>\n",
              "      <td>extreme_pain</td>\n",
              "      <td>absent</td>\n",
              "      <td>severe</td>\n",
              "      <td>NaN</td>\n",
              "      <td>NaN</td>\n",
              "      <td>NaN</td>\n",
              "      <td>decreased</td>\n",
              "      <td>distend_large</td>\n",
              "      <td>45.0</td>\n",
              "      <td>8.4</td>\n",
              "      <td>NaN</td>\n",
              "      <td>NaN</td>\n",
              "      <td>died</td>\n",
              "      <td>no</td>\n",
              "      <td>11300</td>\n",
              "      <td>0</td>\n",
              "      <td>0</td>\n",
              "      <td>no</td>\n",
              "    </tr>\n",
              "    <tr>\n",
              "      <th>1</th>\n",
              "      <td>yes</td>\n",
              "      <td>adult</td>\n",
              "      <td>534817</td>\n",
              "      <td>39.2</td>\n",
              "      <td>88.0</td>\n",
              "      <td>20.0</td>\n",
              "      <td>NaN</td>\n",
              "      <td>NaN</td>\n",
              "      <td>pale_cyanotic</td>\n",
              "      <td>less_3_sec</td>\n",
              "      <td>mild_pain</td>\n",
              "      <td>absent</td>\n",
              "      <td>slight</td>\n",
              "      <td>NaN</td>\n",
              "      <td>NaN</td>\n",
              "      <td>NaN</td>\n",
              "      <td>absent</td>\n",
              "      <td>other</td>\n",
              "      <td>50.0</td>\n",
              "      <td>85.0</td>\n",
              "      <td>cloudy</td>\n",
              "      <td>2.0</td>\n",
              "      <td>euthanized</td>\n",
              "      <td>no</td>\n",
              "      <td>2208</td>\n",
              "      <td>0</td>\n",
              "      <td>0</td>\n",
              "      <td>no</td>\n",
              "    </tr>\n",
              "    <tr>\n",
              "      <th>2</th>\n",
              "      <td>no</td>\n",
              "      <td>adult</td>\n",
              "      <td>530334</td>\n",
              "      <td>38.3</td>\n",
              "      <td>40.0</td>\n",
              "      <td>24.0</td>\n",
              "      <td>normal</td>\n",
              "      <td>normal</td>\n",
              "      <td>pale_pink</td>\n",
              "      <td>less_3_sec</td>\n",
              "      <td>mild_pain</td>\n",
              "      <td>hypomotile</td>\n",
              "      <td>none</td>\n",
              "      <td>NaN</td>\n",
              "      <td>NaN</td>\n",
              "      <td>NaN</td>\n",
              "      <td>normal</td>\n",
              "      <td>normal</td>\n",
              "      <td>33.0</td>\n",
              "      <td>6.7</td>\n",
              "      <td>NaN</td>\n",
              "      <td>NaN</td>\n",
              "      <td>lived</td>\n",
              "      <td>no</td>\n",
              "      <td>0</td>\n",
              "      <td>0</td>\n",
              "      <td>0</td>\n",
              "      <td>yes</td>\n",
              "    </tr>\n",
              "    <tr>\n",
              "      <th>3</th>\n",
              "      <td>yes</td>\n",
              "      <td>young</td>\n",
              "      <td>5290409</td>\n",
              "      <td>39.1</td>\n",
              "      <td>164.0</td>\n",
              "      <td>84.0</td>\n",
              "      <td>cold</td>\n",
              "      <td>normal</td>\n",
              "      <td>dark_cyanotic</td>\n",
              "      <td>more_3_sec</td>\n",
              "      <td>depressed</td>\n",
              "      <td>absent</td>\n",
              "      <td>severe</td>\n",
              "      <td>none</td>\n",
              "      <td>less_1_liter</td>\n",
              "      <td>5.0</td>\n",
              "      <td>decreased</td>\n",
              "      <td>NaN</td>\n",
              "      <td>48.0</td>\n",
              "      <td>7.2</td>\n",
              "      <td>serosanguious</td>\n",
              "      <td>5.3</td>\n",
              "      <td>died</td>\n",
              "      <td>yes</td>\n",
              "      <td>2208</td>\n",
              "      <td>0</td>\n",
              "      <td>0</td>\n",
              "      <td>yes</td>\n",
              "    </tr>\n",
              "    <tr>\n",
              "      <th>4</th>\n",
              "      <td>no</td>\n",
              "      <td>adult</td>\n",
              "      <td>530255</td>\n",
              "      <td>37.3</td>\n",
              "      <td>104.0</td>\n",
              "      <td>35.0</td>\n",
              "      <td>NaN</td>\n",
              "      <td>NaN</td>\n",
              "      <td>dark_cyanotic</td>\n",
              "      <td>more_3_sec</td>\n",
              "      <td>NaN</td>\n",
              "      <td>NaN</td>\n",
              "      <td>NaN</td>\n",
              "      <td>NaN</td>\n",
              "      <td>NaN</td>\n",
              "      <td>NaN</td>\n",
              "      <td>NaN</td>\n",
              "      <td>NaN</td>\n",
              "      <td>74.0</td>\n",
              "      <td>7.4</td>\n",
              "      <td>NaN</td>\n",
              "      <td>NaN</td>\n",
              "      <td>died</td>\n",
              "      <td>no</td>\n",
              "      <td>4300</td>\n",
              "      <td>0</td>\n",
              "      <td>0</td>\n",
              "      <td>no</td>\n",
              "    </tr>\n",
              "  </tbody>\n",
              "</table>\n",
              "</div>"
            ],
            "text/plain": [
              "  surgery    age  hospital_number  ...  lesion_2  lesion_3  cp_data\n",
              "0      no  adult           530101  ...         0         0       no\n",
              "1     yes  adult           534817  ...         0         0       no\n",
              "2      no  adult           530334  ...         0         0      yes\n",
              "3     yes  young          5290409  ...         0         0      yes\n",
              "4      no  adult           530255  ...         0         0       no\n",
              "\n",
              "[5 rows x 28 columns]"
            ]
          },
          "metadata": {
            "tags": []
          },
          "execution_count": 2
        }
      ]
    },
    {
      "cell_type": "code",
      "metadata": {
        "id": "uHpm2AfS6R04"
      },
      "source": [
        "df.shape"
      ],
      "execution_count": null,
      "outputs": []
    },
    {
      "cell_type": "code",
      "metadata": {
        "scrolled": true,
        "id": "D7vQMh186R04"
      },
      "source": [
        "df.columns"
      ],
      "execution_count": null,
      "outputs": []
    },
    {
      "cell_type": "code",
      "metadata": {
        "scrolled": true,
        "id": "fJtTnkPd6R04"
      },
      "source": [
        "df.describe()"
      ],
      "execution_count": null,
      "outputs": []
    },
    {
      "cell_type": "markdown",
      "metadata": {
        "id": "DAzF98GH6R02"
      },
      "source": [
        "<img src = 'cavalo_dourado.jpg'> "
      ]
    },
    {
      "cell_type": "markdown",
      "metadata": {
        "id": "dUkKDAYo6R04"
      },
      "source": [
        "### Pré processamento e tratamento dos dados."
      ]
    },
    {
      "cell_type": "code",
      "metadata": {
        "scrolled": true,
        "id": "AZjPDwd46R05"
      },
      "source": [
        "\"\"\"Código utilizando para verificar com maior precisão de detalhes, quais são os dados nulos no dataset\"\"\"\n",
        "\n",
        "import missingno as msno\n",
        "\n",
        "msno.matrix(df, figsize=(25,5));"
      ],
      "execution_count": null,
      "outputs": []
    },
    {
      "cell_type": "code",
      "metadata": {
        "scrolled": true,
        "id": "mOxAG0wk6R05"
      },
      "source": [
        "\"\"\"Após verificar a imagem acima, é possível determinar que os atributos: \n",
        "1) nasogastric_reflux_ph; \n",
        "2) abdomo_appearance;\n",
        "3) abdomo_protein\n",
        "\n",
        "Podem ser removidos do dataset, pois possuem mais de 50% de dados faltantes. E para essa tarefa o código abaixo\n",
        "irá excluir esses atributos.\"\"\"\n",
        "\n",
        "\"\"\"Após codificação, outras técnicas de tratamento de missing serão realizadas a fim adequar a base de dados para construção\n",
        "dos modelos preditivos.\"\"\"\n",
        "\n",
        "data = df.drop(['nasogastric_reflux_ph','abdomo_appearance','abdomo_protein'], axis = 1)"
      ],
      "execution_count": null,
      "outputs": []
    },
    {
      "cell_type": "code",
      "metadata": {
        "scrolled": true,
        "id": "mFamHvLo6R05"
      },
      "source": [
        "data.columns"
      ],
      "execution_count": null,
      "outputs": []
    },
    {
      "cell_type": "code",
      "metadata": {
        "id": "RNxCRRNo6R06"
      },
      "source": [
        "msno.matrix(data, figsize=(25,5));"
      ],
      "execution_count": null,
      "outputs": []
    },
    {
      "cell_type": "code",
      "metadata": {
        "id": "lWebclil6R06"
      },
      "source": [
        "\"\"\"Sequência de códigos usados para verificar quais são as colunas com dados categóricos e quais possuem dados numéricos.\"\"\"\n",
        "\n",
        "data.info()"
      ],
      "execution_count": null,
      "outputs": []
    },
    {
      "cell_type": "code",
      "metadata": {
        "scrolled": true,
        "id": "qcgWCih36R06"
      },
      "source": [
        "\"\"\"Código usado para criar uma cópia do dataframe original apenas com os dados categóricos do dataframe original.\"\"\"\n",
        "\n",
        "cat_data = data.select_dtypes(include=['object']).copy()\n",
        "cat_data.head()"
      ],
      "execution_count": null,
      "outputs": []
    },
    {
      "cell_type": "markdown",
      "metadata": {
        "id": "fjTu3eBe6R06"
      },
      "source": [
        "## Codificando a coluna (surgery)"
      ]
    },
    {
      "cell_type": "code",
      "metadata": {
        "id": "wmsuNzMw6R06"
      },
      "source": [
        "print(data['surgery'].value_counts())"
      ],
      "execution_count": null,
      "outputs": []
    },
    {
      "cell_type": "code",
      "metadata": {
        "scrolled": true,
        "id": "vqYgktql6R07"
      },
      "source": [
        "labels = data['surgery'].astype('category').cat.categories.tolist()\n",
        "replace_map_comp = {'surgery': {k: v for k,v in zip(labels,list(range(1,len(labels)+1)))}}\n",
        "\n",
        "print(replace_map_comp)"
      ],
      "execution_count": null,
      "outputs": []
    },
    {
      "cell_type": "code",
      "metadata": {
        "id": "bmG3InRG6R07"
      },
      "source": [
        "data.replace(replace_map_comp, inplace=True)\n",
        "\n",
        "data.head()"
      ],
      "execution_count": null,
      "outputs": []
    },
    {
      "cell_type": "markdown",
      "metadata": {
        "id": "vFmuhG3L6R07"
      },
      "source": [
        "## Codificando a coluna (age)"
      ]
    },
    {
      "cell_type": "code",
      "metadata": {
        "id": "T_ZRYdOg6R07"
      },
      "source": [
        "print(data['age'].value_counts())"
      ],
      "execution_count": null,
      "outputs": []
    },
    {
      "cell_type": "code",
      "metadata": {
        "id": "zSGXNMH_6R07"
      },
      "source": [
        "labels = data['age'].astype('category').cat.categories.tolist()\n",
        "replace_map_comp = {'age': {k: v for k,v in zip(labels,list(range(1,len(labels)+1)))}}\n",
        "\n",
        "print(replace_map_comp)"
      ],
      "execution_count": null,
      "outputs": []
    },
    {
      "cell_type": "code",
      "metadata": {
        "id": "um7CFP106R08"
      },
      "source": [
        "data.replace(replace_map_comp, inplace=True)\n",
        "\n",
        "data.head()"
      ],
      "execution_count": null,
      "outputs": []
    },
    {
      "cell_type": "markdown",
      "metadata": {
        "id": "NpvxlH0-6R08"
      },
      "source": [
        "## Codificando a coluna (temp_of_extremities)"
      ]
    },
    {
      "cell_type": "code",
      "metadata": {
        "id": "8tTYk-Gs6R08"
      },
      "source": [
        "print(data['temp_of_extremities'].value_counts())"
      ],
      "execution_count": null,
      "outputs": []
    },
    {
      "cell_type": "code",
      "metadata": {
        "id": "Inhli24N6R08"
      },
      "source": [
        "labels = data['temp_of_extremities'].astype('category').cat.categories.tolist()\n",
        "replace_map_comp = {'temp_of_extremities': {k: v for k,v in zip(labels,list(range(1,len(labels)+1)))}}\n",
        "\n",
        "print(replace_map_comp)"
      ],
      "execution_count": null,
      "outputs": []
    },
    {
      "cell_type": "code",
      "metadata": {
        "id": "uTlLU8y86R08"
      },
      "source": [
        "data.replace(replace_map_comp, inplace=True)\n",
        "data.head()"
      ],
      "execution_count": null,
      "outputs": []
    },
    {
      "cell_type": "markdown",
      "metadata": {
        "id": "pApmCdkB6R08"
      },
      "source": [
        "## Codificando a coluna (peripheral_pulse)"
      ]
    },
    {
      "cell_type": "code",
      "metadata": {
        "id": "ktj7Tpmh6R09"
      },
      "source": [
        "print(data['peripheral_pulse'].value_counts())"
      ],
      "execution_count": null,
      "outputs": []
    },
    {
      "cell_type": "code",
      "metadata": {
        "id": "IG8b-ytO6R09"
      },
      "source": [
        "labels = data['peripheral_pulse'].astype('category').cat.categories.tolist()\n",
        "replace_map_comp = {'peripheral_pulse': {k: v for k,v in zip(labels,list(range(1,len(labels)+1)))}}\n",
        "\n",
        "print(replace_map_comp)"
      ],
      "execution_count": null,
      "outputs": []
    },
    {
      "cell_type": "code",
      "metadata": {
        "scrolled": true,
        "id": "iIDGF1n66R09"
      },
      "source": [
        "data.replace(replace_map_comp, inplace=True)\n",
        "data.head()"
      ],
      "execution_count": null,
      "outputs": []
    },
    {
      "cell_type": "markdown",
      "metadata": {
        "id": "zYvZrBL76R09"
      },
      "source": [
        "## Codificando a coluna (mucous_membrane)"
      ]
    },
    {
      "cell_type": "code",
      "metadata": {
        "id": "wjj5m1Qt6R09"
      },
      "source": [
        "print(data['mucous_membrane'].value_counts())"
      ],
      "execution_count": null,
      "outputs": []
    },
    {
      "cell_type": "code",
      "metadata": {
        "id": "LZ2duNvI6R0-"
      },
      "source": [
        "labels = data['mucous_membrane'].astype('category').cat.categories.tolist()\n",
        "replace_map_comp = {'mucous_membrane': {k: v for k,v in zip(labels,list(range(1,len(labels)+1)))}}\n",
        "\n",
        "print(replace_map_comp)"
      ],
      "execution_count": null,
      "outputs": []
    },
    {
      "cell_type": "code",
      "metadata": {
        "id": "hJKG-Bwb6R0-"
      },
      "source": [
        "data.replace(replace_map_comp, inplace=True)\n",
        "data.head()"
      ],
      "execution_count": null,
      "outputs": []
    },
    {
      "cell_type": "markdown",
      "metadata": {
        "id": "nFiegaZx6R0-"
      },
      "source": [
        "## Codificando a coluna (capillary_refill_time)"
      ]
    },
    {
      "cell_type": "code",
      "metadata": {
        "id": "_Oz2j9jj6R0-"
      },
      "source": [
        "print(data['capillary_refill_time'].value_counts())"
      ],
      "execution_count": null,
      "outputs": []
    },
    {
      "cell_type": "code",
      "metadata": {
        "id": "NDLTuBmg6R0-"
      },
      "source": [
        "labels = data['capillary_refill_time'].astype('category').cat.categories.tolist()\n",
        "replace_map_comp = {'capillary_refill_time': {k: v for k,v in zip(labels,list(range(1,len(labels)+1)))}}\n",
        "\n",
        "data.replace(replace_map_comp, inplace=True)"
      ],
      "execution_count": null,
      "outputs": []
    },
    {
      "cell_type": "markdown",
      "metadata": {
        "id": "WZEw_JlI6R0-"
      },
      "source": [
        "## Codificando a coluna (pain)"
      ]
    },
    {
      "cell_type": "code",
      "metadata": {
        "id": "GTKQL9O46R0_"
      },
      "source": [
        "print(data['pain'].value_counts())"
      ],
      "execution_count": null,
      "outputs": []
    },
    {
      "cell_type": "code",
      "metadata": {
        "id": "K0xsCl7m6R0_"
      },
      "source": [
        "labels = data['pain'].astype('category').cat.categories.tolist()\n",
        "replace_map_comp = {'pain': {k: v for k,v in zip(labels,list(range(1,len(labels)+1)))}}\n",
        "\n",
        "print(replace_map_comp)"
      ],
      "execution_count": null,
      "outputs": []
    },
    {
      "cell_type": "code",
      "metadata": {
        "id": "r0lKguSa6R0_"
      },
      "source": [
        "data.replace(replace_map_comp, inplace=True)\n",
        "data.head()"
      ],
      "execution_count": null,
      "outputs": []
    },
    {
      "cell_type": "markdown",
      "metadata": {
        "id": "4JBhyB6a6R0_"
      },
      "source": [
        "## Codificando a coluna (peristalsis)"
      ]
    },
    {
      "cell_type": "code",
      "metadata": {
        "id": "uVHfpGqR6R0_"
      },
      "source": [
        "\"\"\"Como maneira de complementar o conhecimento, o código abaixo é usado para determinar a frequência de repetição\n",
        "de um determinado valor em um atributo.\"\"\"\n",
        "\n",
        "print(data['peristalsis'].value_counts())"
      ],
      "execution_count": null,
      "outputs": []
    },
    {
      "cell_type": "code",
      "metadata": {
        "id": "usefCOS86R1A"
      },
      "source": [
        "\"\"\"Representação da frequência através de gráficos\"\"\"\n",
        "\n",
        "%matplotlib inline\n",
        "import seaborn as sns\n",
        "import matplotlib.pyplot as plt\n",
        "\n",
        "peristalsis_count = data['peristalsis'].value_counts()\n",
        "sns.set(style=\"darkgrid\")\n",
        "sns.barplot(peristalsis_count.index, peristalsis_count.values, alpha=0.9)\n",
        "plt.title('Frequency Distribution of Peristalsis')\n",
        "plt.ylabel('Number of Occurrences', fontsize=12)\n",
        "plt.xlabel('peristalsis', fontsize=12)\n",
        "plt.show()"
      ],
      "execution_count": null,
      "outputs": []
    },
    {
      "cell_type": "code",
      "metadata": {
        "id": "5fwdFm636R1A"
      },
      "source": [
        "\"\"\" A partir do momento em que sabemos quais sao os dados categóricos, é possível codificar os mesmos e verificar\n",
        "como os mesmos ficarão em um novo dataframe.\"\"\"\n",
        "\n",
        "labels = data['peristalsis'].astype('category').cat.categories.tolist()\n",
        "replace_map_comp = {'peristalsis': {k: v for k,v in zip(labels,list(range(1,len(labels)+1)))}}\n",
        "\n",
        "print(replace_map_comp)"
      ],
      "execution_count": null,
      "outputs": []
    },
    {
      "cell_type": "code",
      "metadata": {
        "id": "43Pcl0j26R1A"
      },
      "source": [
        "data.replace(replace_map_comp, inplace=True)\n",
        "data.head()"
      ],
      "execution_count": null,
      "outputs": []
    },
    {
      "cell_type": "markdown",
      "metadata": {
        "id": "BZ0etB306R1A"
      },
      "source": [
        "## Codificando a coluna (abdominal_distention)"
      ]
    },
    {
      "cell_type": "code",
      "metadata": {
        "id": "LAW_sCq96R1B"
      },
      "source": [
        "print(data['abdominal_distention'].value_counts())"
      ],
      "execution_count": null,
      "outputs": []
    },
    {
      "cell_type": "code",
      "metadata": {
        "id": "EmRs0K7n6R1B"
      },
      "source": [
        "label = data['abdominal_distention'].astype('category').cat.categories.tolist()\n",
        "rep = {'abdominal_distention': {k: v for k,v in zip(label,list(range(1,len(label)+1)))}}\n",
        "\n",
        "print(rep)"
      ],
      "execution_count": null,
      "outputs": []
    },
    {
      "cell_type": "code",
      "metadata": {
        "id": "Th41kow96R1B"
      },
      "source": [
        "data.replace(rep, inplace=True)\n",
        "data.head()"
      ],
      "execution_count": null,
      "outputs": []
    },
    {
      "cell_type": "markdown",
      "metadata": {
        "id": "y019o6CH6R1B"
      },
      "source": [
        "## Codificando a coluna (nasogastric_tube)"
      ]
    },
    {
      "cell_type": "code",
      "metadata": {
        "id": "cY52cwUj6R1B"
      },
      "source": [
        "data['nasogastric_tube'].value_counts()"
      ],
      "execution_count": null,
      "outputs": []
    },
    {
      "cell_type": "code",
      "metadata": {
        "id": "v8RmvGAe6R1B"
      },
      "source": [
        "label = data['nasogastric_tube'].astype('category').cat.categories.tolist()\n",
        "rep = {'nasogastric_tube': {k: v for k,v in zip(label,list(range(1,len(label)+1)))}}\n",
        "\n",
        "print(rep)"
      ],
      "execution_count": null,
      "outputs": []
    },
    {
      "cell_type": "code",
      "metadata": {
        "scrolled": true,
        "id": "EckG-Skt6R1C"
      },
      "source": [
        "data.replace(rep, inplace=True)\n",
        "data.head()"
      ],
      "execution_count": null,
      "outputs": []
    },
    {
      "cell_type": "markdown",
      "metadata": {
        "id": "4e8YG6-y6R1C"
      },
      "source": [
        "## Codificando a coluna (nasogastric_reflux)"
      ]
    },
    {
      "cell_type": "code",
      "metadata": {
        "id": "0vWcJbmA6R1C"
      },
      "source": [
        "data['nasogastric_reflux'].value_counts()"
      ],
      "execution_count": null,
      "outputs": []
    },
    {
      "cell_type": "code",
      "metadata": {
        "id": "rDdvCX2_6R1C"
      },
      "source": [
        "label = data['nasogastric_reflux'].astype('category').cat.categories.tolist()\n",
        "rep = {'nasogastric_reflux': {k: v for k,v in zip(label,list(range(1,len(label)+1)))}}\n",
        "\n",
        "data.replace(rep, inplace=True)"
      ],
      "execution_count": null,
      "outputs": []
    },
    {
      "cell_type": "markdown",
      "metadata": {
        "id": "VNhr-6QF6R1C"
      },
      "source": [
        "## Codificando a coluna (rectal_exam_feces)"
      ]
    },
    {
      "cell_type": "code",
      "metadata": {
        "id": "WqPUoUO46R1C"
      },
      "source": [
        "data['rectal_exam_feces'].value_counts()"
      ],
      "execution_count": null,
      "outputs": []
    },
    {
      "cell_type": "code",
      "metadata": {
        "id": "Fpc4va_q6R1D"
      },
      "source": [
        "label = data['rectal_exam_feces'].astype('category').cat.categories.tolist()\n",
        "rep = {'rectal_exam_feces': {k: v for k, v in zip(label,list(range(1,len(label)+1)))}}\n",
        "\n",
        "data.replace(rep, inplace=True)"
      ],
      "execution_count": null,
      "outputs": []
    },
    {
      "cell_type": "markdown",
      "metadata": {
        "id": "RQSWHJqC6R1D"
      },
      "source": [
        "## Codificando a coluna (abdomen)"
      ]
    },
    {
      "cell_type": "code",
      "metadata": {
        "id": "6ys5h5-A6R1D"
      },
      "source": [
        "data['abdomen'].value_counts()"
      ],
      "execution_count": null,
      "outputs": []
    },
    {
      "cell_type": "code",
      "metadata": {
        "id": "QghWLsU76R1D"
      },
      "source": [
        "label = data['abdomen'].astype('category').cat.categories.tolist()\n",
        "rep = {'abdomen': {k: v for k, v in zip(label,list(range(1,len(label)+1)))}}\n",
        "\n",
        "data.replace(rep, inplace=True)"
      ],
      "execution_count": null,
      "outputs": []
    },
    {
      "cell_type": "markdown",
      "metadata": {
        "id": "N0z9lDMi6R1D"
      },
      "source": [
        "## Codificando a coluna (outcome)"
      ]
    },
    {
      "cell_type": "code",
      "metadata": {
        "id": "tMNOdXz86R1D"
      },
      "source": [
        "data['outcome'].value_counts()"
      ],
      "execution_count": null,
      "outputs": []
    },
    {
      "cell_type": "code",
      "metadata": {
        "id": "h908wGA-6R1D"
      },
      "source": [
        "label = data['outcome'].astype('category').cat.categories.tolist()\n",
        "rep = {'outcome': {k: v for k, v in zip(label,list(range(1,len(label)+1)))}}\n",
        "\n",
        "data.replace(rep, inplace=True)"
      ],
      "execution_count": null,
      "outputs": []
    },
    {
      "cell_type": "markdown",
      "metadata": {
        "id": "xJEkiqNi6R1E"
      },
      "source": [
        "## Codificando a coluna (surgical_lesion)"
      ]
    },
    {
      "cell_type": "code",
      "metadata": {
        "id": "EHDTmq3o6R1E"
      },
      "source": [
        "data['surgical_lesion'].value_counts()"
      ],
      "execution_count": null,
      "outputs": []
    },
    {
      "cell_type": "code",
      "metadata": {
        "id": "I30hC4pQ6R1E"
      },
      "source": [
        "label = data['surgical_lesion'].astype('category').cat.categories.tolist()\n",
        "\n",
        "rep = {'surgical_lesion': {k: v for k, v in zip(label,list(range(1,len(label)+1)))}}\n",
        "\n",
        "data.replace(rep, inplace=True)"
      ],
      "execution_count": null,
      "outputs": []
    },
    {
      "cell_type": "markdown",
      "metadata": {
        "id": "wS9mljP46R1E"
      },
      "source": [
        "## Codificando a coluna (cp_data)"
      ]
    },
    {
      "cell_type": "code",
      "metadata": {
        "id": "IfAbHF4Q6R1E"
      },
      "source": [
        "data['cp_data'].value_counts()"
      ],
      "execution_count": null,
      "outputs": []
    },
    {
      "cell_type": "code",
      "metadata": {
        "id": "_4nl5RM76R1E"
      },
      "source": [
        "label = data[\"cp_data\"].astype('category').cat.categories.tolist()\n",
        "rep = {'cp_data': {k: v for k, v in zip(label,list(range(1,len(label)+1)))}}\n",
        "\n",
        "data.replace(rep, inplace=True)"
      ],
      "execution_count": null,
      "outputs": []
    },
    {
      "cell_type": "markdown",
      "metadata": {
        "id": "Tttg0OQg6R1G"
      },
      "source": [
        "## Verificando todos os atributos após codificação"
      ]
    },
    {
      "cell_type": "code",
      "metadata": {
        "scrolled": false,
        "id": "rVR1KJex6R1H"
      },
      "source": [
        "\"\"\"Verificando como ficou a coluna após a codificação\"\"\"\n",
        "data.head()"
      ],
      "execution_count": null,
      "outputs": []
    },
    {
      "cell_type": "code",
      "metadata": {
        "id": "gWkdKhSW6R1H"
      },
      "source": [
        "data.info()"
      ],
      "execution_count": null,
      "outputs": []
    },
    {
      "cell_type": "markdown",
      "metadata": {
        "id": "8Di09pgj6R1H"
      },
      "source": [
        "## Verificando dados faltantes após codificação e realizando os devidos tratamentos."
      ]
    },
    {
      "cell_type": "markdown",
      "metadata": {
        "id": "pivRF1_Y9cSw"
      },
      "source": [
        "# <font color = 'red'> TRATAMENTO DE MISSING VALUES"
      ]
    },
    {
      "cell_type": "code",
      "metadata": {
        "id": "cAEe77um6R1H"
      },
      "source": [
        "# Visualizar missing\n",
        "\n",
        "import missingno as msno\n",
        "msno.matrix(X_train, figsize=(25,5));"
      ],
      "execution_count": null,
      "outputs": []
    },
    {
      "cell_type": "code",
      "metadata": {
        "id": "gfBt3B076R1H"
      },
      "source": [
        "# Verificar missing por linha\n",
        "\n",
        "percent_missing_rows = X_train.apply(lambda x: x.isnull().sum() * 100 / len(X_train), axis=1).sort_values(ascending=False)\n",
        "df = pd.DataFrame({'row_index': X_train.index, 'percent_missing': percent_missing_rows})\n",
        "df.head()"
      ],
      "execution_count": null,
      "outputs": []
    },
    {
      "cell_type": "code",
      "metadata": {
        "id": "AtNIyKjp6R1H"
      },
      "source": [
        "# remover colunas com variância zero\n",
        "\n",
        "from sklearn.feature_selection import VarianceThreshold\n",
        "zero_var_filter = VarianceThreshold()\n",
        "X_train = zero_var_filter.fit_transform(X_train)"
      ],
      "execution_count": null,
      "outputs": []
    },
    {
      "cell_type": "code",
      "metadata": {
        "id": "l6AWwPjv6R1I"
      },
      "source": [
        "# colunas com variância zero\n",
        "\n",
        "(zero_var_filter.variances_ == 0).sum()"
      ],
      "execution_count": null,
      "outputs": []
    },
    {
      "cell_type": "code",
      "metadata": {
        "id": "IFFZ__v96R1I"
      },
      "source": [
        "# novo shape\n",
        "\n",
        "pd.DataFrame(X_train).shape"
      ],
      "execution_count": null,
      "outputs": []
    },
    {
      "cell_type": "markdown",
      "metadata": {
        "id": "imPAyGf1-DhQ"
      },
      "source": [
        "# <font color = 'red'> ANÁLISE EXPLORATÓRIA APÓS TRATAMENTO DE MISSING VALUES"
      ]
    },
    {
      "cell_type": "markdown",
      "metadata": {
        "id": "TvoaM-M-9vc4"
      },
      "source": [
        "# <font color = 'red'> RELATÓRIO ESTATÍSTICO INICIAL"
      ]
    },
    {
      "cell_type": "markdown",
      "metadata": {
        "id": "KnlWAl976R1I"
      },
      "source": [
        "## Gerando Relatório Geral com os dados codificados e pre processados"
      ]
    },
    {
      "cell_type": "code",
      "metadata": {
        "id": "zk-O_pP06R1I"
      },
      "source": [
        "\"\"\"Gerando relatório geral ainda sem realizar nenhum tipo de tratamento direto na base de dados.\"\"\"\n",
        "\n",
        "from pandas_profiling import ProfileReport\n",
        "profile = ProfileReport(df, title='Relatório Cavalo')\n",
        "profile"
      ],
      "execution_count": null,
      "outputs": []
    },
    {
      "cell_type": "code",
      "metadata": {
        "id": "ivhuLcn46R1I"
      },
      "source": [
        "profile.to_file('Relatório Cardiopático')"
      ],
      "execution_count": null,
      "outputs": []
    },
    {
      "cell_type": "markdown",
      "metadata": {
        "id": "4EqfelLU6R1I"
      },
      "source": [
        "## General percentage exploratory analysis of pacient gender and health status."
      ]
    },
    {
      "cell_type": "code",
      "metadata": {
        "scrolled": true,
        "id": "rWM1rEfG6R1J"
      },
      "source": [
        "# Code used to discover the percentage by gender.\n",
        "df_s = pd.DataFrame(df.sex.value_counts())\n",
        "df_s\n",
        "\n",
        "gender = ['MAN', 'WOMAN']\n",
        "\n",
        "df_s.insert(loc=1,column='gender', value=gender)\n",
        "df_s.head()\n",
        "\n",
        "\n",
        "labels = df_s.gender\n",
        "colors = ['lightskyblue', 'red']\n",
        "plt.pie(df_s['sex'], labels= labels, colors=colors, startangle=90, autopct='%.1f%%')\n",
        "plt.show()"
      ],
      "execution_count": null,
      "outputs": []
    },
    {
      "cell_type": "code",
      "metadata": {
        "scrolled": true,
        "id": "DHF3aUHl6R1J"
      },
      "source": [
        "# Code used to create a pizza chart to inform the percentage of sick and health pacients\n",
        "\n",
        "df_t = pd.DataFrame(df.target.value_counts())\n",
        "df_t\n",
        "\n",
        "status = ['Sick', 'Healthy']\n",
        "\n",
        "\n",
        "df_t.insert(loc=1,column='status', value=status)\n",
        "\n",
        "dfc.head()\n",
        "\n",
        "labels = df_t.status\n",
        "colors = ['lightskyblue', 'red']\n",
        "plt.pie(df_t['target'], labels= labels, colors=colors, startangle=90, autopct='%.1f%%')\n",
        "plt.show()"
      ],
      "execution_count": null,
      "outputs": []
    },
    {
      "cell_type": "markdown",
      "metadata": {
        "id": "7h_XUlJo6R1J"
      },
      "source": [
        "## Men's Patient Exploratory Analysis"
      ]
    },
    {
      "cell_type": "code",
      "metadata": {
        "scrolled": true,
        "id": "2kLykOiL6R1J"
      },
      "source": [
        "# Chart used to describe the age of all man pacients.\n",
        "\n",
        "M = df[df['sex']==1]['age'].values\n",
        "M\n",
        "\n",
        "plt.subplots(figsize= (10,9))\n",
        "\n",
        "sns.countplot(y=M)\n",
        "plt.title(\"Amount of Man pacient by age)\")\n",
        "plt.show()"
      ],
      "execution_count": null,
      "outputs": []
    },
    {
      "cell_type": "code",
      "metadata": {
        "scrolled": true,
        "id": "wUb4Vj8y6R1J"
      },
      "source": [
        "# Chart used to describe the age of all sick man pacients.\n",
        "\n",
        "MS = df[df['sex']==1][df['target']==1]['age'].values\n",
        "MS\n",
        "\n",
        "plt.subplots(figsize= (10,9))\n",
        "\n",
        "sns.countplot(y=MS)\n",
        "plt.title(\"Amount of Man pacient by age)\")\n",
        "plt.show()"
      ],
      "execution_count": null,
      "outputs": []
    },
    {
      "cell_type": "code",
      "metadata": {
        "scrolled": true,
        "id": "XbARVaps6R1K"
      },
      "source": [
        "# Code used to discover the percentage of sick and healthy man.\n",
        "\n",
        "df34 = pd.DataFrame(man_df.Health_Status.value_counts())\n",
        "df34\n",
        "\n",
        "Result = ['Sick', 'Healthy']\n",
        "\n",
        "df34.insert(loc=1,column='MAN_Result', value=Result)\n",
        "df34.head()\n",
        "\n",
        "\n",
        "labels = df34.MAN_Result \n",
        "colors = ['lightskyblue', 'red']\n",
        "plt.pie(df34['Health_Status'], labels= labels, colors=colors, startangle=90, autopct='%.1f%%')\n",
        "plt.show()"
      ],
      "execution_count": null,
      "outputs": []
    },
    {
      "cell_type": "markdown",
      "metadata": {
        "id": "-y_8ie5E6R1K"
      },
      "source": [
        "## Women's Patient Exploratory Analysis"
      ]
    },
    {
      "cell_type": "code",
      "metadata": {
        "id": "4cObu17c6R1K"
      },
      "source": [
        "# Code used to count the amout of woman inside the case study.\n",
        "\n",
        "W = df[df['sex']==0]['age'].values\n",
        "W\n",
        "\n",
        "plt.subplots(figsize= (10,9))\n",
        "\n",
        "sns.countplot(y=W)\n",
        "plt.title(\"Amount of Woman pacient by age)\")\n",
        "plt.show()"
      ],
      "execution_count": null,
      "outputs": []
    },
    {
      "cell_type": "code",
      "metadata": {
        "scrolled": true,
        "id": "y5v-aj9A6R1K"
      },
      "source": [
        "# Code used to count the amout of woman sick inside the case study.\n",
        "\n",
        "W = df[df['sex']==0][df['target']==1]['age'].values\n",
        "W\n",
        "\n",
        "plt.subplots(figsize= (10,9))\n",
        "\n",
        "sns.countplot(y=W)\n",
        "plt.title(\"Amount of Woman pacient by age)\")\n",
        "plt.show()"
      ],
      "execution_count": null,
      "outputs": []
    },
    {
      "cell_type": "code",
      "metadata": {
        "id": "2oSs1ygs6R1K"
      },
      "source": [
        "# Code used to discover the percentage of sick and healthy woman.\n",
        "\n",
        "df34 = pd.DataFrame(woman_df.Health_Status.value_counts())\n",
        "df34\n",
        "\n",
        "Result = ['Sick', 'Healthy']\n",
        "\n",
        "df34.insert(loc=1,column='WOMAN_Result', value=Result)\n",
        "df34.head()\n",
        "\n",
        "labels = df34.WOMAN_Result \n",
        "colors = ['lightskyblue', 'red']\n",
        "plt.pie(df34['Health_Status'], labels= labels, colors=colors, startangle=90, autopct='%.1f%%')\n",
        "plt.show()"
      ],
      "execution_count": null,
      "outputs": []
    },
    {
      "cell_type": "markdown",
      "metadata": {
        "id": "OT3zLClt6R1L"
      },
      "source": [
        "# <font color = 'red'> DESENVOLVIMENTO DOS MODELOS DE MACHINE LEARNING."
      ]
    },
    {
      "cell_type": "markdown",
      "metadata": {
        "id": "jFtC698V6R1L"
      },
      "source": [
        "# <font color = red> ÁRVORE DE DECISÃO"
      ]
    },
    {
      "cell_type": "code",
      "metadata": {
        "id": "Oo8pmJXu6R1L"
      },
      "source": [
        "# Separation of test and train bases.\n",
        "\n",
        "import numpy as np\n",
        "seed = 10000\n",
        "\n",
        "from sklearn.model_selection import train_test_split\n",
        "\n",
        "X = df.loc[:, df.columns != 'target']    # ENTRADA\n",
        "Y = df.target, test_size=0.2             # SAÍDA\n",
        "\n",
        "X_train, X_test, Y_train, Y_test = train_test_split(X, Y, random_state=seed) # TENTAR USAR O OPÇÃO ESTRTIFICADA POSTERIORMENTE\n",
        "\n",
        "print('shape input de treino', X_train.shape)\n",
        "print('shape input de teste', X_test.shape)\n",
        "print('shape output de treino', Y_train.shape)\n",
        "print('shape output de teste', Y_test.shape)"
      ],
      "execution_count": null,
      "outputs": []
    },
    {
      "cell_type": "code",
      "metadata": {
        "id": "arRKwj5r6R1L"
      },
      "source": [
        "sns.countplot(x=Y_train)\n",
        "plt.title(\"Shape output de treino\")\n",
        "plt.show()"
      ],
      "execution_count": null,
      "outputs": []
    },
    {
      "cell_type": "code",
      "metadata": {
        "scrolled": true,
        "id": "9cNMbrSh6R1L"
      },
      "source": [
        "sns.countplot(x=Y_test)\n",
        "plt.title(\"Shape output de teste\")\n",
        "plt.show()"
      ],
      "execution_count": null,
      "outputs": []
    },
    {
      "cell_type": "markdown",
      "metadata": {
        "id": "uJ1w3yPy6R1L"
      },
      "source": [
        "### First Try (Training Model)"
      ]
    },
    {
      "cell_type": "code",
      "metadata": {
        "id": "0KDzlFKI6R1M"
      },
      "source": [
        "# Training Model\n",
        "\n",
        "from sklearn.tree import DecisionTreeClassifier\n",
        "\n",
        "\n",
        "model = DecisionTreeClassifier(random_state=seed)\n",
        "\n",
        "\n",
        "model.fit(X_train, Y_train);"
      ],
      "execution_count": null,
      "outputs": []
    },
    {
      "cell_type": "code",
      "metadata": {
        "id": "KsAwrJz16R1M"
      },
      "source": [
        "'''Visualizando a árvore de decisão'''\n",
        "\n",
        "from sklearn import tree\n",
        "fig, ax = plt.subplots(figsize=(20,10)) # definir tamanho da imagem a ser gerada\n",
        "tree.plot_tree(model, class_names=['Doente', 'Saudável'], filled=True, rounded=True); # plota árvore\n"
      ],
      "execution_count": null,
      "outputs": []
    },
    {
      "cell_type": "code",
      "metadata": {
        "id": "9wqpyEs86R1M"
      },
      "source": [
        "# Evaluating test Model (ACCURACY)\n",
        "\n",
        "model.score(X_train, Y_train)"
      ],
      "execution_count": null,
      "outputs": []
    },
    {
      "cell_type": "code",
      "metadata": {
        "id": "hjFUg6_-6R1M"
      },
      "source": [
        "# Evaluating test Model (ACCURACY)\n",
        "\n",
        "model.score(X_test, Y_test)"
      ],
      "execution_count": null,
      "outputs": []
    },
    {
      "cell_type": "markdown",
      "metadata": {
        "id": "8qyfQpaH6R1M"
      },
      "source": [
        "### Second Try (Normalization)"
      ]
    },
    {
      "cell_type": "code",
      "metadata": {
        "id": "F4CYReaj6R1M"
      },
      "source": [
        "from sklearn.tree import DecisionTreeClassifier\n",
        "model = DecisionTreeClassifier(random_state=seed, min_samples_leaf=10)\n",
        "model.fit(X_train, Y_train);"
      ],
      "execution_count": null,
      "outputs": []
    },
    {
      "cell_type": "code",
      "metadata": {
        "id": "ZPcJA8iW6R1M"
      },
      "source": [
        "model.score(X_train, Y_train)"
      ],
      "execution_count": null,
      "outputs": []
    },
    {
      "cell_type": "code",
      "metadata": {
        "id": "FfGShtvb6R1N"
      },
      "source": [
        "model.score(X_test, Y_test)"
      ],
      "execution_count": null,
      "outputs": []
    },
    {
      "cell_type": "markdown",
      "metadata": {
        "id": "vfdaOigR6R1N"
      },
      "source": [
        "### Decision Tree Confusion Matrix"
      ]
    },
    {
      "cell_type": "code",
      "metadata": {
        "id": "HKuDf34W6R1N"
      },
      "source": [
        "from sklearn.metrics import confusion_matrix\n",
        "y_pred = model.predict(X_test)\n",
        "\n",
        "\n",
        "confMatrix = pd.DataFrame(confusion_matrix(y_pred, Y_test), \n",
        "                          index=['Foreseen healthy', 'Foreseen sick'], \n",
        "                          columns=['Real Healthy', 'Real Sick'])\n",
        "confMatrix"
      ],
      "execution_count": null,
      "outputs": []
    },
    {
      "cell_type": "markdown",
      "metadata": {
        "id": "nduOqjfp6R1N"
      },
      "source": [
        "### Saving model READY TO USE"
      ]
    },
    {
      "cell_type": "code",
      "metadata": {
        "id": "P5G1qOIi6R1N"
      },
      "source": [
        "import pickle\n",
        "pickle.dump(model, open('model_DT.sav', 'wb'))"
      ],
      "execution_count": null,
      "outputs": []
    },
    {
      "cell_type": "markdown",
      "metadata": {
        "id": "jzGXeg-t6R1N"
      },
      "source": [
        "### <font color = red> GRID SEARCH"
      ]
    },
    {
      "cell_type": "code",
      "metadata": {
        "id": "RyzFcH1b6R1N"
      },
      "source": [
        "from sklearn.model_selection import GridSearchCV\n",
        "from sklearn.metrics import classification_report\n",
        "\n",
        "# Set the parameters by cross-validation\n",
        "\n",
        "tuned_parameters = [{'criterion': ['gini', 'entropy'], 'max_depth': [2,4,6,8,10,12], 'min_samples_leaf': [1,2,3,4,5,8,10]}]\n",
        "\n",
        "print(\"# Tuning hyper-parameters for F1 score\")\n",
        "print()\n",
        "\n",
        "model = GridSearchCV(DecisionTreeClassifier(), tuned_parameters, scoring='f1')\n",
        "model.fit(X_train, y_train)\n",
        "\n",
        "y_true, y_pred = y_test, model.predict(X_test)\n",
        "\n",
        "print(classification_report(y_true, y_pred))\n",
        "print()"
      ],
      "execution_count": null,
      "outputs": []
    },
    {
      "cell_type": "code",
      "metadata": {
        "id": "VzlhB3R_6R1O"
      },
      "source": [
        "''' Para usar esse códico, é necessário criar a função que gera a matrix de confusão que está no notebook credito AD.'''\n",
        "\n",
        "predict_and_evaluate(X_test, y_test)"
      ],
      "execution_count": null,
      "outputs": []
    },
    {
      "cell_type": "markdown",
      "metadata": {
        "id": "Y-pw19tj6R1O"
      },
      "source": [
        "# <font color = red> RANDOM FOREST"
      ]
    },
    {
      "cell_type": "code",
      "metadata": {
        "id": "nhURJSB66R1O"
      },
      "source": [
        "# treinar modelo\n",
        "\n",
        "from sklearn.ensemble import RandomForestClassifier\n",
        "\n",
        "def train(X_train, y_train, seed):\n",
        "  model = RandomForestClassifier(min_samples_leaf=5, random_state=seed) # tente mudar parâmetro para evitar overfitting\n",
        "  model.fit(X_train, y_train);\n",
        "  return model\n",
        "\n",
        "model = train(X_train, y_train, seed)"
      ],
      "execution_count": null,
      "outputs": []
    },
    {
      "cell_type": "markdown",
      "metadata": {
        "id": "s6perNLo6R1O"
      },
      "source": [
        "### Avaliar modelo treinado na base de teste"
      ]
    },
    {
      "cell_type": "code",
      "metadata": {
        "id": "XQnFDypk6R1O"
      },
      "source": [
        "def predict_and_evaluate(X_test, y_test):\n",
        "\n",
        "  y_pred = model.predict(X_test) #inferência do teste\n",
        "\n",
        "  # Acurácia\n",
        "    \n",
        "  from sklearn.metrics import accuracy_score\n",
        "  accuracy = accuracy_score(y_test, y_pred)\n",
        "  print('Acurácia: ', accuracy)\n",
        "\n",
        "  # Kappa\n",
        "    \n",
        "  from sklearn.metrics import cohen_kappa_score\n",
        "  kappa = cohen_kappa_score(y_test, y_pred)\n",
        "  print('Kappa: ', kappa)\n",
        "\n",
        "  # F1\n",
        "    \n",
        "  from sklearn.metrics import f1_score\n",
        "  f1 = f1_score(y_test, y_pred)\n",
        "  print('F1: ', f1)\n",
        "\n",
        "  # Matriz de confusão\n",
        "    \n",
        "  from sklearn.metrics import confusion_matrix\n",
        "  confMatrix = confusion_matrix(y_pred, y_test)\n",
        "\n",
        "  ax = plt.subplot()\n",
        "  sns.heatmap(confMatrix, annot=True, fmt=\".0f\")\n",
        "  plt.xlabel('Real')\n",
        "  plt.ylabel('Previsto')\n",
        "  plt.title('Matriz de Confusão')\n",
        "\n",
        "  # Colocar os nomes\n",
        "    \n",
        "  ax.xaxis.set_ticklabels(['Não Pagou', 'Pagou']) \n",
        "  ax.yaxis.set_ticklabels(['Não Pagou', 'Pagou'])\n",
        "  plt.show()\n",
        "\n",
        "predict_and_evaluate(X_test, y_test)"
      ],
      "execution_count": null,
      "outputs": []
    },
    {
      "cell_type": "markdown",
      "metadata": {
        "id": "KzgoQGn_6R1O"
      },
      "source": [
        "### Normalizar"
      ]
    },
    {
      "cell_type": "code",
      "metadata": {
        "id": "CeuuPC8w6R1P"
      },
      "source": [
        "from sklearn.preprocessing import StandardScaler\n",
        "scaler = StandardScaler().fit(X_train)\n",
        "X_train = scaler.transform(X_train)\n",
        "X_test = scaler.transform(X_test)"
      ],
      "execution_count": null,
      "outputs": []
    },
    {
      "cell_type": "code",
      "metadata": {
        "id": "xMPeTRn-6R1P"
      },
      "source": [
        "# Treinar e Testar novamente\n",
        "\n",
        "model = train(X_train, y_train, seed)\n",
        "predict_and_evaluate(X_test, y_test)"
      ],
      "execution_count": null,
      "outputs": []
    },
    {
      "cell_type": "markdown",
      "metadata": {
        "id": "SCFUMAP16R1P"
      },
      "source": [
        "## Saving model READY TO USE"
      ]
    },
    {
      "cell_type": "code",
      "metadata": {
        "id": "OjXktKh76R1P"
      },
      "source": [
        "import pickle\n",
        "pickle.dump(model, open('model_RF.sav', 'wb'))"
      ],
      "execution_count": null,
      "outputs": []
    },
    {
      "cell_type": "markdown",
      "metadata": {
        "id": "HAZ7_c9-6R1P"
      },
      "source": [
        "# <font color = red> KNN"
      ]
    },
    {
      "cell_type": "code",
      "metadata": {
        "id": "veePXbWd6R1P"
      },
      "source": [
        "# treinar modelo\n",
        "\n",
        "from sklearn.neighbors import KNeighborsClassifier\n",
        "\n",
        "def train(X_train, y_train, n_neighbors=5):\n",
        "  model = KNeighborsClassifier(n_neighbors=n_neighbors)\n",
        "  model.fit(X_train, y_train);\n",
        "  y_pred = model.predict(X_test) #inferência do teste\n",
        "\n",
        "  return model, y_pred\n",
        "\n",
        "model, y_pred = train(X_train, y_train)"
      ],
      "execution_count": null,
      "outputs": []
    },
    {
      "cell_type": "code",
      "metadata": {
        "id": "kc3WWs4f6R1Q"
      },
      "source": [
        "def predict_and_evaluate(y_test, y_pred):  \n",
        "\n",
        "  # Acurácia\n",
        "\n",
        "  from sklearn.metrics import accuracy_score\n",
        "  accuracy = accuracy_score(y_test, y_pred)\n",
        "  print('Acurácia: ', accuracy)\n",
        "\n",
        "  # Kappa\n",
        "\n",
        "  from sklearn.metrics import cohen_kappa_score\n",
        "  kappa = cohen_kappa_score(y_test, y_pred)\n",
        "  print('Kappa: ', kappa)\n",
        "\n",
        "  # F1\n",
        "\n",
        "  from sklearn.metrics import f1_score\n",
        "  f1 = f1_score(y_test, y_pred, average='weighted')\n",
        "  print('F1: ', f1)\n",
        "\n",
        "  # Matriz de confusão\n",
        "\n",
        "  from sklearn.metrics import confusion_matrix\n",
        "  confMatrix = confusion_matrix(y_pred, y_test)\n",
        "\n",
        "  ax = plt.subplot()\n",
        "  sns.heatmap(confMatrix, annot=True, fmt=\".0f\")\n",
        "  plt.xlabel('Real')\n",
        "  plt.ylabel('Previsto')\n",
        "  plt.title('Matriz de Confusão')\n",
        "\n",
        "  # Colocar os nomes\n",
        "\n",
        "  ax.xaxis.set_ticklabels(['Benigno', 'Maligno']) \n",
        "  ax.yaxis.set_ticklabels(['Benigno', 'Maligno'])\n",
        "  plt.show()\n",
        "\n",
        "predict_and_evaluate(y_test, y_pred)"
      ],
      "execution_count": null,
      "outputs": []
    },
    {
      "cell_type": "markdown",
      "metadata": {
        "id": "x4g1prLr6R1Q"
      },
      "source": [
        "### Normalizar"
      ]
    },
    {
      "cell_type": "code",
      "metadata": {
        "id": "h__huzW46R1Q"
      },
      "source": [
        "from sklearn.preprocessing import StandardScaler\n",
        "scaler = StandardScaler().fit(X_train)\n",
        "X_train = scaler.transform(X_train)\n",
        "X_test = scaler.transform(X_test)"
      ],
      "execution_count": null,
      "outputs": []
    },
    {
      "cell_type": "code",
      "metadata": {
        "id": "c3w-oPdW6R1Q"
      },
      "source": [
        "# Treinar e Testar novamente\n",
        "\n",
        "model, y_pred = train(X_train, y_train)\n",
        "predict_and_evaluate(y_test, y_pred)"
      ],
      "execution_count": null,
      "outputs": []
    },
    {
      "cell_type": "markdown",
      "metadata": {
        "id": "ALBfzrVn6R1Q"
      },
      "source": [
        "## Saving model READY TO USE"
      ]
    },
    {
      "cell_type": "code",
      "metadata": {
        "id": "Nbpgb-rE6R1Q"
      },
      "source": [
        "import pickle\n",
        "pickle.dump(model, open('model_KNN.sav', 'wb'))"
      ],
      "execution_count": null,
      "outputs": []
    },
    {
      "cell_type": "markdown",
      "metadata": {
        "id": "1PKHaqrk6R1R"
      },
      "source": [
        "# <font color = red> SVM"
      ]
    },
    {
      "cell_type": "markdown",
      "metadata": {
        "id": "dA93q2y66R1R"
      },
      "source": [
        "## Pré Processamento"
      ]
    },
    {
      "cell_type": "code",
      "metadata": {
        "id": "Rbcr1VEa6R1R"
      },
      "source": [
        "# Visualizar missing\n",
        "\n",
        "import missingno as msno\n",
        "msno.matrix(X_train, figsize=(25,5));"
      ],
      "execution_count": null,
      "outputs": []
    },
    {
      "cell_type": "code",
      "metadata": {
        "id": "QirNBsrz6R1R"
      },
      "source": [
        "# Verificar missing por linha\n",
        "\n",
        "percent_missing_rows = X_train.apply(lambda x: x.isnull().sum() * 100 / len(X_train), axis=1).sort_values(ascending=False)\n",
        "df = pd.DataFrame({'row_index': X_train.index, 'percent_missing': percent_missing_rows})\n",
        "df.head()"
      ],
      "execution_count": null,
      "outputs": []
    },
    {
      "cell_type": "code",
      "metadata": {
        "id": "7L4DhRfS6R1R"
      },
      "source": [
        "# remover colunas com variância zero\n",
        "\n",
        "from sklearn.feature_selection import VarianceThreshold\n",
        "zero_var_filter = VarianceThreshold()\n",
        "X_train = zero_var_filter.fit_transform(X_train)"
      ],
      "execution_count": null,
      "outputs": []
    },
    {
      "cell_type": "code",
      "metadata": {
        "id": "O1NQOcvx6R1R"
      },
      "source": [
        "# colunas com variância zero\n",
        "\n",
        "(zero_var_filter.variances_ == 0).sum()"
      ],
      "execution_count": null,
      "outputs": []
    },
    {
      "cell_type": "code",
      "metadata": {
        "id": "iO8NcYuL6R1S"
      },
      "source": [
        "# novo shape\n",
        "\n",
        "pd.DataFrame(X_train).shape"
      ],
      "execution_count": null,
      "outputs": []
    },
    {
      "cell_type": "markdown",
      "metadata": {
        "id": "JNqwmVkk6R1S"
      },
      "source": [
        "### Treinando o modelo SVM"
      ]
    },
    {
      "cell_type": "code",
      "metadata": {
        "id": "oy5M2i1v6R1S"
      },
      "source": [
        "# treinar modelo\n",
        "\n",
        "from sklearn.svm import SVC\n",
        "\n",
        "def trainSVM(X_train, y_train, seed):\n",
        "  model = SVC(random_state=seed)\n",
        "  model.fit(X_train, y_train)\n",
        "  return model\n",
        "\n",
        "model = trainSVM(X_train, y_train, seed)"
      ],
      "execution_count": null,
      "outputs": []
    },
    {
      "cell_type": "code",
      "metadata": {
        "id": "ZcUFmnWn6R1S"
      },
      "source": [
        "# remover as mesmas colunas removidas por variância zero. Nesse caso não houveram tais atributos. \n",
        "# Deixo o código caso tenham um caso que ocorra. Aqui não fará nenhuma diferença.\n",
        "\n",
        "X_test = zero_var_filter.transform(X_test)\n",
        "X_test.shape"
      ],
      "execution_count": null,
      "outputs": []
    },
    {
      "cell_type": "code",
      "metadata": {
        "id": "hdMsa-Az6R1S"
      },
      "source": [
        "def predict_and_evaluate(X_test, y_test):\n",
        "\n",
        "  y_pred = model.predict(X_test) #inferência do teste\n",
        "\n",
        "  # Acurácia\n",
        "    \n",
        "  from sklearn.metrics import accuracy_score\n",
        "  accuracy = accuracy_score(y_test, y_pred)\n",
        "  print('Acurácia: ', accuracy)\n",
        "\n",
        "  # Kappa\n",
        "    \n",
        "  from sklearn.metrics import cohen_kappa_score\n",
        "  kappa = cohen_kappa_score(y_test, y_pred)\n",
        "  print('Kappa: ', kappa)\n",
        "\n",
        "  # F1\n",
        "    \n",
        "  from sklearn.metrics import f1_score\n",
        "  f1 = f1_score(y_test, y_pred)\n",
        "  print('F1: ', f1)\n",
        "\n",
        "  # Matriz de confusão\n",
        "    \n",
        "  from sklearn.metrics import confusion_matrix\n",
        "  confMatrix = confusion_matrix(y_pred, y_test)\n",
        "\n",
        "  ax = plt.subplot()\n",
        "  sns.heatmap(confMatrix, annot=True, fmt=\".0f\")\n",
        "  plt.xlabel('Real')\n",
        "  plt.ylabel('Previsto')\n",
        "  plt.title('Matriz de Confusão')\n",
        "\n",
        "  # Colocar os nomes\n",
        "    \n",
        "  ax.xaxis.set_ticklabels(['Não Pagou', 'Pagou']) \n",
        "  ax.yaxis.set_ticklabels(['Não Pagou', 'Pagou'])\n",
        "  plt.show()\n",
        "\n",
        "predict_and_evaluate(X_test, y_test)"
      ],
      "execution_count": null,
      "outputs": []
    },
    {
      "cell_type": "markdown",
      "metadata": {
        "id": "gEQRYK8m6R1S"
      },
      "source": [
        "### Normalizar"
      ]
    },
    {
      "cell_type": "code",
      "metadata": {
        "id": "Kfwtf-ai6R1T"
      },
      "source": [
        "from sklearn.preprocessing import StandardScaler\n",
        "scaler = StandardScaler().fit(X_train)\n",
        "X_train = scaler.transform(X_train)\n",
        "X_test = scaler.transform(X_test)"
      ],
      "execution_count": null,
      "outputs": []
    },
    {
      "cell_type": "code",
      "metadata": {
        "id": "KhmpiykJ6R1T"
      },
      "source": [
        "# Treinar e Testar novamente\n",
        "\n",
        "model = trainSVM(X_train, y_train, seed)\n",
        "predict_and_evaluate(X_test, y_test)"
      ],
      "execution_count": null,
      "outputs": []
    },
    {
      "cell_type": "markdown",
      "metadata": {
        "id": "n7IvTgeZ6R1T"
      },
      "source": [
        "## Saving model READY TO USE"
      ]
    },
    {
      "cell_type": "code",
      "metadata": {
        "id": "GEF9TXNK6R1T"
      },
      "source": [
        "import pickle\n",
        "pickle.dump(model, open('model_SVM.sav', 'wb'))"
      ],
      "execution_count": null,
      "outputs": []
    }
  ]
}